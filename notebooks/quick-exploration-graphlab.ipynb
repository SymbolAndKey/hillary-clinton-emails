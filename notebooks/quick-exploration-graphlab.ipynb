{
 "cells": [
  {
   "cell_type": "markdown",
   "metadata": {},
   "source": [
    "# Quick Exploration of interactions in Hillary Clinton's emails using GraphLab\n",
    "This notebook explores the [Kaggle dataset with Hillary Clinton's emails](https://www.kaggle.com/kaggle/hillary-clinton-emails). Other notebooks or scripts can be found in [this repository](https://github.com/SymbolAndKey/hillary-clinton-emails). The goal of this notebook is to explore interactions in email exchanges. In particular, it follows from [this notebook](https://www.kaggle.com/gpayen/d/kaggle/hillary-clinton-emails/interaction-between-contacts/notebook) which found a few contacts were more connected than others. The goal would be to take a closer look at these contacts.\n",
    "The secondary (meta-)goal is to use and evaluate the GraphLab framework for this task."
   ]
  },
  {
   "cell_type": "code",
   "execution_count": 1,
   "metadata": {
    "collapsed": false
   },
   "outputs": [],
   "source": [
    "import graphlab as gl\n",
    "gl.canvas.set_target('ipynb')"
   ]
  },
  {
   "cell_type": "markdown",
   "metadata": {},
   "source": [
    "## Loading the data\n",
    "The dataset was either in a few CSVf files or in a single sqlite DB. CSV loading is similar to pandas, but SQL is done via ODBC. So before executing queries, we had to first set up an ODBC data source, after that, the rest is the same:  "
   ]
  },
  {
   "cell_type": "code",
   "execution_count": 3,
   "metadata": {
    "collapsed": false
   },
   "outputs": [],
   "source": [
    "conn = gl.connect_odbc('DSN=hillary')\n",
    "emails = gl.SFrame.from_odbc(conn, \"\"\"\n",
    "SELECT *\n",
    "FROM Emails\n",
    "\"\"\")\n",
    "aliases = gl.SFrame.from_odbc(conn, \"\"\"\n",
    "SELECT a.Alias, p.Name\n",
    "FROM Aliases a\n",
    "JOIN Persons p ON p.Id = a.PersonId\n",
    "\"\"\")"
   ]
  },
  {
   "cell_type": "markdown",
   "metadata": {
    "collapsed": false
   },
   "source": [
    "## Cleaning the data\n",
    "For small pre-processing, we adapted the following script from [this notebook](https://www.kaggle.com/groe0029/d/kaggle/hillary-clinton-emails/clinton-email-graph-with-pageranks/code):"
   ]
  },
  {
   "cell_type": "code",
   "execution_count": 4,
   "metadata": {
    "collapsed": false
   },
   "outputs": [],
   "source": [
    "def resolve_person(name):\n",
    "    name = str(name).lower().replace(\",\",\"\").split(\"@\")[0]\n",
    "    if (\"mills\" in name) or (\"cheryl\" in name) or (\"nill\" in name) or (\"miliscd\" in name) or (\"cdm\" in name) or (\"aliil\" in name) or (\"miliscd\" in name):\n",
    "        return \"Cheryl Mills\"\n",
    "    elif (\"a bed\" in name) or (\"abed\" in name) or (\"hume abed\" in name) or (\"huma\" in name) or (\"eabed\" in name):\n",
    "        return \"Huma Abedin\"\n",
    "    elif (\"sullivan\" in name)  or (\"sulliv\" in name) or (\"sulliy\" in name) or (\"su ii\" in name) or (\"suili\" in name):\n",
    "        return \"Jake Sullivan\"\n",
    "    elif (\"iloty\" in name) or (\"illoty\" in name) or (\"jilot\" in name):\n",
    "        return \"Lauren Jiloty\"\n",
    "    elif \"reines\" in name: return \"Phillip Reines\"\n",
    "    elif (\"valmoro\" in name ): return \"Lona Valmoro\"    \n",
    "    elif (name == \"h\") or (name == \"h2\") or (\"secretary\" in name) or (\"hillary\" in name) or (\"hrod\" in name):\n",
    "        return \"Hillary Clinton\"\n",
    "    elif str(name) == \"\": return \"Redacted\"\n",
    "    #fall back to the aliases file    \n",
    "    elif len(aliases[aliases['Alias'] == name]) > 0:\n",
    "        return aliases[aliases['Alias'] == name]['Name'][0]\n",
    "    else: return name\n",
    "    \n",
    "emails['MetadataFrom'] = emails['MetadataFrom'].apply(resolve_person)\n",
    "emails['MetadataTo'] = emails['MetadataTo'].apply(resolve_person)    "
   ]
  },
  {
   "cell_type": "markdown",
   "metadata": {
    "collapsed": false
   },
   "source": [
    "It is not entirely precise in that it throws away other receivers apart from the first one in some emails.  A potential further analysis could look into this issue.\n",
    "## Graph Processing\n",
    "To identify the most \"important\" contacts, we used the conventional link analysis algorithm, PageRank. GraphLab provides its implementation out of the box. The only thing we needed to do is to create an SGraph instance from SFrame (a dataframe equivalent):"
   ]
  },
  {
   "cell_type": "code",
   "execution_count": 5,
   "metadata": {
    "collapsed": false
   },
   "outputs": [
    {
     "name": "stdout",
     "output_type": "stream",
     "text": [
      "PROGRESS: Counting out degree\n",
      "PROGRESS: Done counting out degree\n",
      "PROGRESS: +-----------+-----------------------+\n",
      "PROGRESS: | Iteration | L1 change in pagerank |\n",
      "PROGRESS: +-----------+-----------------------+\n",
      "PROGRESS: | 1         | 356.665               |\n",
      "PROGRESS: | 2         | 158.938               |\n",
      "PROGRESS: | 3         | 113.038               |\n",
      "PROGRESS: | 4         | 84.1455               |\n",
      "PROGRESS: | 5         | 63.6425               |\n",
      "PROGRESS: | 6         | 47.3554               |\n",
      "PROGRESS: | 7         | 35.8581               |\n",
      "PROGRESS: | 8         | 26.6632               |\n",
      "PROGRESS: | 9         | 20.2123               |\n",
      "PROGRESS: | 10        | 15.0189               |\n",
      "PROGRESS: | 11        | 11.3979               |\n",
      "PROGRESS: | 12        | 8.46334               |\n",
      "PROGRESS: | 13        | 6.43018               |\n",
      "PROGRESS: | 14        | 4.77107               |\n",
      "PROGRESS: | 15        | 3.62918               |\n",
      "PROGRESS: | 16        | 2.69066               |\n",
      "PROGRESS: | 17        | 2.04924               |\n",
      "PROGRESS: | 18        | 1.51801               |\n",
      "PROGRESS: | 19        | 1.15767               |\n",
      "PROGRESS: | 20        | 0.856766              |\n",
      "PROGRESS: +-----------+-----------------------+\n"
     ]
    },
    {
     "data": {
      "text/html": [
       "<div style=\"max-height:1000px;max-width:1500px;overflow:auto;\"><table frame=\"box\" rules=\"cols\">\n",
       "    <tr>\n",
       "        <th style=\"padding-left: 1em; padding-right: 1em; text-align: center\">__id</th>\n",
       "        <th style=\"padding-left: 1em; padding-right: 1em; text-align: center\">pagerank</th>\n",
       "        <th style=\"padding-left: 1em; padding-right: 1em; text-align: center\">delta</th>\n",
       "    </tr>\n",
       "    <tr>\n",
       "        <td style=\"padding-left: 1em; padding-right: 1em; text-align: center; vertical-align: top\">Hillary Clinton</td>\n",
       "        <td style=\"padding-left: 1em; padding-right: 1em; text-align: center; vertical-align: top\">48.8357112469</td>\n",
       "        <td style=\"padding-left: 1em; padding-right: 1em; text-align: center; vertical-align: top\">0.462034128653</td>\n",
       "    </tr>\n",
       "    <tr>\n",
       "        <td style=\"padding-left: 1em; padding-right: 1em; text-align: center; vertical-align: top\">Redacted</td>\n",
       "        <td style=\"padding-left: 1em; padding-right: 1em; text-align: center; vertical-align: top\">23.6321674633</td>\n",
       "        <td style=\"padding-left: 1em; padding-right: 1em; text-align: center; vertical-align: top\">0.0145231455808</td>\n",
       "    </tr>\n",
       "    <tr>\n",
       "        <td style=\"padding-left: 1em; padding-right: 1em; text-align: center; vertical-align: top\">Huma Abedin</td>\n",
       "        <td style=\"padding-left: 1em; padding-right: 1em; text-align: center; vertical-align: top\">8.88694162865</td>\n",
       "        <td style=\"padding-left: 1em; padding-right: 1em; text-align: center; vertical-align: top\">0.070773476314</td>\n",
       "    </tr>\n",
       "    <tr>\n",
       "        <td style=\"padding-left: 1em; padding-right: 1em; text-align: center; vertical-align: top\">Cheryl Mills</td>\n",
       "        <td style=\"padding-left: 1em; padding-right: 1em; text-align: center; vertical-align: top\">8.15020234581</td>\n",
       "        <td style=\"padding-left: 1em; padding-right: 1em; text-align: center; vertical-align: top\">0.0679968053559</td>\n",
       "    </tr>\n",
       "    <tr>\n",
       "        <td style=\"padding-left: 1em; padding-right: 1em; text-align: center; vertical-align: top\">Jake Sullivan</td>\n",
       "        <td style=\"padding-left: 1em; padding-right: 1em; text-align: center; vertical-align: top\">7.24718183559</td>\n",
       "        <td style=\"padding-left: 1em; padding-right: 1em; text-align: center; vertical-align: top\">0.0587589985475</td>\n",
       "    </tr>\n",
       "    <tr>\n",
       "        <td style=\"padding-left: 1em; padding-right: 1em; text-align: center; vertical-align: top\">Lauren Jiloty</td>\n",
       "        <td style=\"padding-left: 1em; padding-right: 1em; text-align: center; vertical-align: top\">5.14847255727</td>\n",
       "        <td style=\"padding-left: 1em; padding-right: 1em; text-align: center; vertical-align: top\">0.0467739272367</td>\n",
       "    </tr>\n",
       "    <tr>\n",
       "        <td style=\"padding-left: 1em; padding-right: 1em; text-align: center; vertical-align: top\">Lona Valmoro</td>\n",
       "        <td style=\"padding-left: 1em; padding-right: 1em; text-align: center; vertical-align: top\">3.13865133252</td>\n",
       "        <td style=\"padding-left: 1em; padding-right: 1em; text-align: center; vertical-align: top\">0.0277637292264</td>\n",
       "    </tr>\n",
       "    <tr>\n",
       "        <td style=\"padding-left: 1em; padding-right: 1em; text-align: center; vertical-align: top\">Phillip Reines</td>\n",
       "        <td style=\"padding-left: 1em; padding-right: 1em; text-align: center; vertical-align: top\">1.73920017404</td>\n",
       "        <td style=\"padding-left: 1em; padding-right: 1em; text-align: center; vertical-align: top\">0.0101946964758</td>\n",
       "    </tr>\n",
       "    <tr>\n",
       "        <td style=\"padding-left: 1em; padding-right: 1em; text-align: center; vertical-align: top\">Sidney Blumenthal</td>\n",
       "        <td style=\"padding-left: 1em; padding-right: 1em; text-align: center; vertical-align: top\">1.20178422614</td>\n",
       "        <td style=\"padding-left: 1em; padding-right: 1em; text-align: center; vertical-align: top\">0.0101256616454</td>\n",
       "    </tr>\n",
       "    <tr>\n",
       "        <td style=\"padding-left: 1em; padding-right: 1em; text-align: center; vertical-align: top\">hanleymr</td>\n",
       "        <td style=\"padding-left: 1em; padding-right: 1em; text-align: center; vertical-align: top\">0.849392441671</td>\n",
       "        <td style=\"padding-left: 1em; padding-right: 1em; text-align: center; vertical-align: top\">0.0066092595937</td>\n",
       "    </tr>\n",
       "</table>\n",
       "[278 rows x 3 columns]<br/>Note: Only the head of the SFrame is printed.<br/>You can use print_rows(num_rows=m, num_columns=n) to print more rows and columns.\n",
       "</div>"
      ],
      "text/plain": [
       "Columns:\n",
       "\t__id\tstr\n",
       "\tpagerank\tfloat\n",
       "\tdelta\tfloat\n",
       "\n",
       "Rows: 278\n",
       "\n",
       "Data:\n",
       "+-------------------+----------------+-----------------+\n",
       "|        __id       |    pagerank    |      delta      |\n",
       "+-------------------+----------------+-----------------+\n",
       "|  Hillary Clinton  | 48.8357112469  |  0.462034128653 |\n",
       "|      Redacted     | 23.6321674633  | 0.0145231455808 |\n",
       "|    Huma Abedin    | 8.88694162865  |  0.070773476314 |\n",
       "|    Cheryl Mills   | 8.15020234581  | 0.0679968053559 |\n",
       "|   Jake Sullivan   | 7.24718183559  | 0.0587589985475 |\n",
       "|   Lauren Jiloty   | 5.14847255727  | 0.0467739272367 |\n",
       "|    Lona Valmoro   | 3.13865133252  | 0.0277637292264 |\n",
       "|   Phillip Reines  | 1.73920017404  | 0.0101946964758 |\n",
       "| Sidney Blumenthal | 1.20178422614  | 0.0101256616454 |\n",
       "|      hanleymr     | 0.849392441671 | 0.0066092595937 |\n",
       "+-------------------+----------------+-----------------+\n",
       "[278 rows x 3 columns]\n",
       "Note: Only the head of the SFrame is printed.\n",
       "You can use print_rows(num_rows=m, num_columns=n) to print more rows and columns."
      ]
     },
     "execution_count": 5,
     "metadata": {},
     "output_type": "execute_result"
    }
   ],
   "source": [
    "g = gl.SGraph()\n",
    "g = g.add_edges(emails, src_field='MetadataFrom', dst_field='MetadataTo')\n",
    "pr = gl.pagerank.create(g)\n",
    "pr['pagerank'].sort('pagerank', False)"
   ]
  },
  {
   "cell_type": "markdown",
   "metadata": {
    "collapsed": false
   },
   "source": [
    "As expected, Hillary Clinton has the highest PageRank. We can also see that the source or destination address of many emails were redacted. A potential further analysis could look into such emails in a more detail.\n",
    "\n",
    "Anyway, the key point is here is that we managed to find the top most important people from Hillary Clinton's inner circles: Huma Abedin, Cheryl Mills, Jake Sullivan, Lauren Jiloty, Lona Valmoro, etc.\n",
    "It would be interesting to plot our findings -- GraphLab has some limited support for that. Firstly, we can't use our original SGraph, because it contains too many vertices and edges. Hence, we create a smaller one:"
   ]
  },
  {
   "cell_type": "code",
   "execution_count": 6,
   "metadata": {
    "collapsed": false
   },
   "outputs": [
    {
     "data": {
      "application/javascript": [
       "$(\"head\").append($(\"<link/>\").attr({\n",
       "  rel:  \"stylesheet\",\n",
       "  type: \"text/css\",\n",
       "  href: \"//cdnjs.cloudflare.com/ajax/libs/font-awesome/4.1.0/css/font-awesome.min.css\"\n",
       "}));\n",
       "$(\"head\").append($(\"<link/>\").attr({\n",
       "  rel:  \"stylesheet\",\n",
       "  type: \"text/css\",\n",
       "  href: \"//dato.com/files/canvas/1.7.1/css/canvas.css\"\n",
       "}));\n",
       "\n",
       "            (function(){\n",
       "\n",
       "                var e = null;\n",
       "                if (typeof element == 'undefined') {\n",
       "                    var scripts = document.getElementsByTagName('script');\n",
       "                    var thisScriptTag = scripts[scripts.length-1];\n",
       "                    var parentDiv = thisScriptTag.parentNode;\n",
       "                    e = document.createElement('div');\n",
       "                    parentDiv.appendChild(e);\n",
       "                } else {\n",
       "                    e = element[0];\n",
       "                }\n",
       "\n",
       "                if (typeof requirejs !== 'undefined') {\n",
       "                    // disable load timeout; ipython_app.js is large and can take a while to load.\n",
       "                    requirejs.config({waitSeconds: 0});\n",
       "                }\n",
       "\n",
       "                require(['//dato.com/files/canvas/1.7.1/js/ipython_app.js'], function(IPythonApp){\n",
       "                    var app = new IPythonApp();\n",
       "                    app.attachView('sgraph','View', {\"edges_labels\": null, \"selected_variable\": {\"name\": [\"<SGraph>\"], \"view_file\": \"sgraph\", \"view_component\": \"View\", \"view_params\": {\"elabel_hover\": false, \"vertex_positions\": null, \"h_offset\": 0.0, \"node_size\": 300, \"ecolor\": [0.37, 0.33, 0.33], \"elabel\": null, \"arrows\": false, \"ewidth\": 1, \"vlabel\": \"id\", \"highlight_color\": [0.69, 0.0, 0.498], \"vcolor\": [0.522, 0.741, 0.0], \"vlabel_hover\": true, \"highlight\": {\"Cheryl Mills\": [0.2, 0.6, 1.0], \"Hillary Clinton\": [0.8, 0.2, 0.2], \"Lona Valmoro\": [0.2, 0.6, 1.0], \"Jake Sullivan\": [0.2, 0.6, 1.0], \"Huma Abedin\": [0.2, 0.6, 1.0], \"Lauren Jiloty\": [0.2, 0.6, 1.0]}, \"v_offset\": 0.03}, \"view_components\": [\"View\"], \"type\": \"SGraph\", \"descriptives_links\": {\"edges\": \"edges\", \"vertices\": \"vertices\"}, \"descriptives\": {\"edges\": 344, \"vertices\": 203}}, \"positions\": null, \"error_type\": 0, \"vertices\": [\"verveerms\", \"postmaster\", \"kohhh\", \"feltmanjd\", \"cholletdh\", \"William Burns\", \"abendinh\", \"Strobe Talbott\", \"posnermh\", \"Craig Kelly\", \"Sidney Blumenthal\", \"crowleypj\", \"Janice Jacobs\", \"Reta Jo Lewis\", \"Monica Hanley\", \"Mike\", \"Lynn Forester de Rothschild\", \"Lissa Muscatine\", \"Mark Hyman\", \"Maggie Williams\", \"Laurie Rubiner\", \"steinbertjb\", \"Christopher Edwards\", \"Daniel Schwerin\", \"Christopher Hill\", \"American Beverage Association\", \"Madeleine Albright\", \"James Smith\", \"Megan Rooney\", \"Arturo Valenzuela\", \"David Axelrod\", \"l\", \"balderstonkm\", \"Todd Stern\", \"Susan Rice\", \"Rajiv Shah\", \"Courtney Beale\", \"Max Baucus\", \"lewjj\", \"Lisa Caputo\", \"Suzanne Grantham\", \"Samuel Berger\", \"Judith McHale\", \"James Steinberg\", \"Jeffrey Feltman\", \"Daniel Baer\", \"baldersonkm\", \"Phillip Reines\", \"Joshua Daniel\", \"vermarr\", \"russorv\", \"John Podesta\", \"Zachary Iscol\", \"Victoria Nuland\", \"tillemannts\", \"Luis CdeBaca\", \"oterom2\", \"Lourdes Cue\", \"Maria Otero\", \"Daniel\", \"Justin Cooper\", \"Lauren Jiloty\", \"Voda Ebeling\", \"Jonathan Prince\", \"rooneym\", \"Jake Sullivan\", \";h\", \"Gina Glantz\", \"mhcaleja\", \"George Mitchell\", \"ki-moon ban\", \"Lee Feinstein\", \"Case Button\", \"Michael Fuchs\", \"Barbara Mikulski\", \"Anthony Lake\", \"rodriguezme\", \"slaughter ann-marie\", \"alcb\", \"Thomas Donilon\", \"steinbergjb\", \"Robert Russo\", \"Jan Piercy\", \"Kurt Campbell\", \"schwerindb\", \"KPK\", \"Nancy Parrish\", \"Michele Bond\", \"Doug Hattaway\", \"Harold Hongju Koh\", \"Wendy Sherman\", \"Robert Danford\", \"Derek Chollet\", \"Andrew Shapiro\", \"slaughter anne-marie\", \"muscantinel\", \"shannonta\", \"duk-soo han\", \"carsonj\", \"hanleymr\", \"brimmere\", \"Betsy Ebeling\", \"bam\", \"Patrick Kennedy\", \"Miguel Rodriguez\", \"hillcr\", \"Lois Quam\", \"Nora Tov\", \"Donald\", \"Jeffrey Farrow\", \"Esther Brimmer\", \"Jacob Lew\", \"David Garten\", \"Rick Sloan\", \"Linda Dewan\", \"Melanne Verveer\", \"Danielle Brian\", \"Eric Woodard\", \"Doug Band\", \"Council on Foreign Relations\", \"campbellkm\", \"Christopher Butzgy\", \"bealeca\", \"Tomicah Tillemann\", \"holbrookerc\", \"Philip Crowley\", \"Maura Pally\", \"Colin Powell\", \"Terry Duffy\", \"Tina Flournoy\", \"Thomas Shannon\", \"Scott Gration\", \"Rene Preval\", \"Redacted\", \"Piper Campbell\", \"Philippe Reines\", \"PVervee\", \"Burns Strider\", \"Michael Posner\", \"Brian Greenspun\", \"Marty Torrey\", \"Kris Balderston\", \"Kent Conrad\", \"toivnf\", \"rosemarie.howe ;h\", \"Recos\", \"Lona Valmoro\", \"Alec\", \"Paul Jones\", \"sterntd\", \"burnswj\", \"muscatinel\", \"rrh.interiors\", \"mh.interiors\", \"Capricia Marshall\", \"mchaleja\", \"Oscar Flores\", \"marshallcp\", \"Jim Kennedy\", \"adedinh\", \"tauschereo\", \"shapiroa\", \"kellyc\", \"Phillip Crowley\", \"Nora Toiv\", \"hormatsrd\", \"aclb\", \"sulllivanjj\", \"Jackie Newmyer\", \"Mark Penn\", \"M. Albright\", \"Richard Verma\", \"Joanne Laszczych\", \"valenzuelaaa\", \"Claire Coleman\", \"Oscar Lores\", \"Huma Abedin\", \"Hillary Clinton\", \"Caroline Adler\", \"Robert Hormats\", \"slaughtera\", \"David Miliband\", \"Philip Gordon\", \"Michele Flournoy\", \"nidestr\", \"Cherie Blair\", \"valmmorolj\", \"gordonph\", \"fuchsmh\", \"Thomas Nides\", \"Samuel (\\\"Sandy\\\") Berger\", \"Luzzatto\", \"Robert Blake\", \"Cheryl Mills\", \"LGraham\", \"Rosemarie Howe\", \"Johnnie Carson\", \"slaughter anne- marie\", \"Neera Tanden\", \"G. Lou de Bac\", \"david_garten\", \"Ellen Tauscher\", \"Dana Hyde\"], \"vertices_labels\": [\"verveerms\", \"postmaster\", \"kohhh\", \"feltmanjd\", \"cholletdh\", \"William Burns\", \"abendinh\", \"Strobe Talbott\", \"posnermh\", \"Craig Kelly\", \"Sidney Blumenthal\", \"crowleypj\", \"Janice Jacobs\", \"Reta Jo Lewis\", \"Monica Hanley\", \"Mike\", \"Lynn Forester de Rothschild\", \"Lissa Muscatine\", \"Mark Hyman\", \"Maggie Williams\", \"Laurie Rubiner\", \"steinbertjb\", \"Christopher Edwards\", \"Daniel Schwerin\", \"Christopher Hill\", \"American Beverage Association\", \"Madeleine Albright\", \"James Smith\", \"Megan Rooney\", \"Arturo Valenzuela\", \"David Axelrod\", \"l\", \"balderstonkm\", \"Todd Stern\", \"Susan Rice\", \"Rajiv Shah\", \"Courtney Beale\", \"Max Baucus\", \"lewjj\", \"Lisa Caputo\", \"Suzanne Grantham\", \"Samuel Berger\", \"Judith McHale\", \"James Steinberg\", \"Jeffrey Feltman\", \"Daniel Baer\", \"baldersonkm\", \"Phillip Reines\", \"Joshua Daniel\", \"vermarr\", \"russorv\", \"John Podesta\", \"Zachary Iscol\", \"Victoria Nuland\", \"tillemannts\", \"Luis CdeBaca\", \"oterom2\", \"Lourdes Cue\", \"Maria Otero\", \"Daniel\", \"Justin Cooper\", \"Lauren Jiloty\", \"Voda Ebeling\", \"Jonathan Prince\", \"rooneym\", \"Jake Sullivan\", \";h\", \"Gina Glantz\", \"mhcaleja\", \"George Mitchell\", \"ki-moon ban\", \"Lee Feinstein\", \"Case Button\", \"Michael Fuchs\", \"Barbara Mikulski\", \"Anthony Lake\", \"rodriguezme\", \"slaughter ann-marie\", \"alcb\", \"Thomas Donilon\", \"steinbergjb\", \"Robert Russo\", \"Jan Piercy\", \"Kurt Campbell\", \"schwerindb\", \"KPK\", \"Nancy Parrish\", \"Michele Bond\", \"Doug Hattaway\", \"Harold Hongju Koh\", \"Wendy Sherman\", \"Robert Danford\", \"Derek Chollet\", \"Andrew Shapiro\", \"slaughter anne-marie\", \"muscantinel\", \"shannonta\", \"duk-soo han\", \"carsonj\", \"hanleymr\", \"brimmere\", \"Betsy Ebeling\", \"bam\", \"Patrick Kennedy\", \"Miguel Rodriguez\", \"hillcr\", \"Lois Quam\", \"Nora Tov\", \"Donald\", \"Jeffrey Farrow\", \"Esther Brimmer\", \"Jacob Lew\", \"David Garten\", \"Rick Sloan\", \"Linda Dewan\", \"Melanne Verveer\", \"Danielle Brian\", \"Eric Woodard\", \"Doug Band\", \"Council on Foreign Relations\", \"campbellkm\", \"Christopher Butzgy\", \"bealeca\", \"Tomicah Tillemann\", \"holbrookerc\", \"Philip Crowley\", \"Maura Pally\", \"Colin Powell\", \"Terry Duffy\", \"Tina Flournoy\", \"Thomas Shannon\", \"Scott Gration\", \"Rene Preval\", \"Redacted\", \"Piper Campbell\", \"Philippe Reines\", \"PVervee\", \"Burns Strider\", \"Michael Posner\", \"Brian Greenspun\", \"Marty Torrey\", \"Kris Balderston\", \"Kent Conrad\", \"toivnf\", \"rosemarie.howe ;h\", \"Recos\", \"Lona Valmoro\", \"Alec\", \"Paul Jones\", \"sterntd\", \"burnswj\", \"muscatinel\", \"rrh.interiors\", \"mh.interiors\", \"Capricia Marshall\", \"mchaleja\", \"Oscar Flores\", \"marshallcp\", \"Jim Kennedy\", \"adedinh\", \"tauschereo\", \"shapiroa\", \"kellyc\", \"Phillip Crowley\", \"Nora Toiv\", \"hormatsrd\", \"aclb\", \"sulllivanjj\", \"Jackie Newmyer\", \"Mark Penn\", \"M. Albright\", \"Richard Verma\", \"Joanne Laszczych\", \"valenzuelaaa\", \"Claire Coleman\", \"Oscar Lores\", \"Huma Abedin\", \"Hillary Clinton\", \"Caroline Adler\", \"Robert Hormats\", \"slaughtera\", \"David Miliband\", \"Philip Gordon\", \"Michele Flournoy\", \"nidestr\", \"Cherie Blair\", \"valmmorolj\", \"gordonph\", \"fuchsmh\", \"Thomas Nides\", \"Samuel (\\\"Sandy\\\") Berger\", \"Luzzatto\", \"Robert Blake\", \"Cheryl Mills\", \"LGraham\", \"Rosemarie Howe\", \"Johnnie Carson\", \"slaughter anne- marie\", \"Neera Tanden\", \"G. Lou de Bac\", \"david_garten\", \"Ellen Tauscher\", \"Dana Hyde\"], \"edges\": [[\"Monica Hanley\", \"Daniel Schwerin\"], [\"crowleypj\", \"Phillip Reines\"], [\"Daniel Schwerin\", \"Jake Sullivan\"], [\"Monica Hanley\", \"Jake Sullivan\"], [\"Strobe Talbott\", \"Redacted\"], [\"Sidney Blumenthal\", \"Redacted\"], [\"Craig Kelly\", \"Hillary Clinton\"], [\"Strobe Talbott\", \"Huma Abedin\"], [\"Sidney Blumenthal\", \"Hillary Clinton\"], [\"verveerms\", \"Huma Abedin\"], [\"Lissa Muscatine\", \"Hillary Clinton\"], [\"Christopher Hill\", \"Hillary Clinton\"], [\"Daniel Schwerin\", \"Hillary Clinton\"], [\"William Burns\", \"Hillary Clinton\"], [\"James Smith\", \"Hillary Clinton\"], [\"Arturo Valenzuela\", \"Hillary Clinton\"], [\"Laurie Rubiner\", \"Hillary Clinton\"], [\"Madeleine Albright\", \"Hillary Clinton\"], [\"Monica Hanley\", \"Hillary Clinton\"], [\"postmaster\", \"Hillary Clinton\"], [\"Lissa Muscatine\", \"Huma Abedin\"], [\"kohhh\", \"Hillary Clinton\"], [\"American Beverage Association\", \"Hillary Clinton\"], [\"Reta Jo Lewis\", \"Hillary Clinton\"], [\"crowleypj\", \"Hillary Clinton\"], [\"David Axelrod\", \"Hillary Clinton\"], [\"Monica Hanley\", \"Huma Abedin\"], [\"Mike\", \"Hillary Clinton\"], [\"Megan Rooney\", \"Hillary Clinton\"], [\"Strobe Talbott\", \"Hillary Clinton\"], [\"verveerms\", \"Hillary Clinton\"], [\"Lissa Muscatine\", \"Cheryl Mills\"], [\"Sidney Blumenthal\", \"Cheryl Mills\"], [\"Phillip Reines\", \"Jake Sullivan\"], [\"Judith McHale\", \"Maria Otero\"], [\"Jeffrey Feltman\", \"Jake Sullivan\"], [\"Courtney Beale\", \"Jake Sullivan\"], [\"Jeffrey Feltman\", \"Harold Hongju Koh\"], [\"Judith McHale\", \"Doug Hattaway\"], [\"Phillip Reines\", \"Philip Crowley\"], [\"Judith McHale\", \"Jacob Lew\"], [\"Judith McHale\", \"Philip Crowley\"], [\"Phillip Reines\", \"Redacted\"], [\"Judith McHale\", \"Lona Valmoro\"], [\"Susan Rice\", \"Redacted\"], [\"Samuel Berger\", \"Hillary Clinton\"], [\"Rajiv Shah\", \"Hillary Clinton\"], [\"Susan Rice\", \"Hillary Clinton\"], [\"James Steinberg\", \"Hillary Clinton\"], [\"Courtney Beale\", \"Hillary Clinton\"], [\"Jeffrey Feltman\", \"Hillary Clinton\"], [\"Max Baucus\", \"Hillary Clinton\"], [\"Daniel Baer\", \"Hillary Clinton\"], [\"Joshua Daniel\", \"Hillary Clinton\"], [\"baldersonkm\", \"Hillary Clinton\"], [\"Judith McHale\", \"Hillary Clinton\"], [\"Todd Stern\", \"Hillary Clinton\"], [\"lewjj\", \"Hillary Clinton\"], [\"Phillip Reines\", \"Hillary Clinton\"], [\"Phillip Reines\", \"Cheryl Mills\"], [\"Phillip Reines\", \"Thomas Nides\"], [\"Jake Sullivan\", \"Strobe Talbott\"], [\"Jake Sullivan\", \"Daniel Schwerin\"], [\"Jake Sullivan\", \"Judith McHale\"], [\"Jake Sullivan\", \"Phillip Reines\"], [\"vermarr\", \"Jake Sullivan\"], [\"Voda Ebeling\", \"Lauren Jiloty\"], [\"Jake Sullivan\", \"Wendy Sherman\"], [\"Jake Sullivan\", \"slaughter anne-marie\"], [\"Jake Sullivan\", \"Jacob Lew\"], [\"Jake Sullivan\", \"Philip Crowley\"], [\"Michael Fuchs\", \"Hillary Clinton\"], [\"Jake Sullivan\", \"Hillary Clinton\"], [\"Lauren Jiloty\", \"Huma Abedin\"], [\"Lee Feinstein\", \"Hillary Clinton\"], [\"rooneym\", \"Hillary Clinton\"], [\"Voda Ebeling\", \"Huma Abedin\"], [\"Anthony Lake\", \"Hillary Clinton\"], [\"Gina Glantz\", \"Hillary Clinton\"], [\"Maria Otero\", \"Hillary Clinton\"], [\"Case Button\", \"Hillary Clinton\"], [\"Jake Sullivan\", \"Richard Verma\"], [\"Jake Sullivan\", \"Huma Abedin\"], [\"John Podesta\", \"Hillary Clinton\"], [\"Voda Ebeling\", \"Hillary Clinton\"], [\"Jonathan Prince\", \"Hillary Clinton\"], [\"Jake Sullivan\", \"aclb\"], [\"Victoria Nuland\", \"Hillary Clinton\"], [\"Zachary Iscol\", \"Hillary Clinton\"], [\"Luis CdeBaca\", \"Hillary Clinton\"], [\"vermarr\", \"Hillary Clinton\"], [\"Barbara Mikulski\", \"Hillary Clinton\"], [\"Lauren Jiloty\", \"Hillary Clinton\"], [\"George Mitchell\", \"Hillary Clinton\"], [\"Lauren Jiloty\", \"Cheryl Mills\"], [\"Jake Sullivan\", \"Cheryl Mills\"], [\"Harold Hongju Koh\", \"Jeffrey Feltman\"], [\"Robert Russo\", \"Doug Hattaway\"], [\"Robert Russo\", \"Betsy Ebeling\"], [\"Harold Hongju Koh\", \"Hillary Clinton\"], [\"Robert Russo\", \"Hillary Clinton\"], [\"alcb\", \"Hillary Clinton\"], [\"Kurt Campbell\", \"Hillary Clinton\"], [\"Andrew Shapiro\", \"Hillary Clinton\"], [\"Wendy Sherman\", \"Hillary Clinton\"], [\"Derek Chollet\", \"Hillary Clinton\"], [\"slaughter ann-marie\", \"Hillary Clinton\"], [\"KPK\", \"Hillary Clinton\"], [\"Robert Danford\", \"Hillary Clinton\"], [\"Thomas Donilon\", \"Hillary Clinton\"], [\"Jeffrey Farrow\", \"Jake Sullivan\"], [\"Philip Crowley\", \"Michael Posner\"], [\"Patrick Kennedy\", \"Redacted\"], [\"Tomicah Tillemann\", \"Redacted\"], [\"slaughter anne-marie\", \"Redacted\"], [\"Jacob Lew\", \"Redacted\"], [\"David Garten\", \"Hillary Clinton\"], [\"Christopher Butzgy\", \"Hillary Clinton\"], [\"Colin Powell\", \"Hillary Clinton\"], [\"Eric Woodard\", \"Hillary Clinton\"], [\"Esther Brimmer\", \"Hillary Clinton\"], [\"Maura Pally\", \"Hillary Clinton\"], [\"Danielle Brian\", \"Hillary Clinton\"], [\"Tomicah Tillemann\", \"Hillary Clinton\"], [\"Philip Crowley\", \"Hillary Clinton\"], [\"Linda Dewan\", \"Hillary Clinton\"], [\"Jeffrey Farrow\", \"Hillary Clinton\"], [\"Lois Quam\", \"Hillary Clinton\"], [\"Patrick Kennedy\", \"Hillary Clinton\"], [\"Melanne Verveer\", \"Hillary Clinton\"], [\"slaughter anne-marie\", \"Hillary Clinton\"], [\"Nora Tov\", \"Hillary Clinton\"], [\"Miguel Rodriguez\", \"Hillary Clinton\"], [\"bam\", \"Hillary Clinton\"], [\"Betsy Ebeling\", \"Hillary Clinton\"], [\"hanleymr\", \"Hillary Clinton\"], [\"Jacob Lew\", \"Hillary Clinton\"], [\"Lona Valmoro\", \"Phillip Reines\"], [\"muscatinel\", \"Daniel Baer\"], [\"Lona Valmoro\", \"Lauren Jiloty\"], [\"Philippe Reines\", \"Jake Sullivan\"], [\"mchaleja\", \"slaughter anne-marie\"], [\"Redacted\", \"Redacted\"], [\"Burns Strider\", \"Hillary Clinton\"], [\"Michael Posner\", \"Hillary Clinton\"], [\"Kris Balderston\", \"Hillary Clinton\"], [\"Thomas Shannon\", \"Hillary Clinton\"], [\"mchaleja\", \"Hillary Clinton\"], [\"Recos\", \"Hillary Clinton\"], [\"Philippe Reines\", \"Huma Abedin\"], [\"PVervee\", \"Hillary Clinton\"], [\"Capricia Marshall\", \"Hillary Clinton\"], [\"muscatinel\", \"Hillary Clinton\"], [\"Philippe Reines\", \"Hillary Clinton\"], [\"Lona Valmoro\", \"Huma Abedin\"], [\"Redacted\", \"Hillary Clinton\"], [\"Capricia Marshall\", \"Huma Abedin\"], [\"Paul Jones\", \"Hillary Clinton\"], [\"Piper Campbell\", \"Hillary Clinton\"], [\"Lona Valmoro\", \"Hillary Clinton\"], [\"Lona Valmoro\", \"Cheryl Mills\"], [\"Alec\", \"Cheryl Mills\"], [\"Capricia Marshall\", \"Cheryl Mills\"], [\"Hillary Clinton\", \"William Burns\"], [\"Hillary Clinton\", \"Maggie Williams\"], [\"Huma Abedin\", \"Mark Hyman\"], [\"Hillary Clinton\", \"crowleypj\"], [\"Hillary Clinton\", \"abendinh\"], [\"Hillary Clinton\", \"posnermh\"], [\"Hillary Clinton\", \"verveerms\"], [\"Huma Abedin\", \"Laurie Rubiner\"], [\"Hillary Clinton\", \"David Axelrod\"], [\"Hillary Clinton\", \"kohhh\"], [\"Hillary Clinton\", \"Lynn Forester de Rothschild\"], [\"Hillary Clinton\", \"cholletdh\"], [\"Hillary Clinton\", \"Lissa Muscatine\"], [\"Hillary Clinton\", \"steinbertjb\"], [\"Hillary Clinton\", \"Sidney Blumenthal\"], [\"Hillary Clinton\", \"Strobe Talbott\"], [\"Hillary Clinton\", \"feltmanjd\"], [\"Hillary Clinton\", \"Daniel Baer\"], [\"Hillary Clinton\", \"Phillip Reines\"], [\"Hillary Clinton\", \"l\"], [\"Huma Abedin\", \"Courtney Beale\"], [\"Hillary Clinton\", \"lewjj\"], [\"Hillary Clinton\", \"Rajiv Shah\"], [\"Huma Abedin\", \"Phillip Reines\"], [\"Hillary Clinton\", \"balderstonkm\"], [\"Hillary Clinton\", \"Lisa Caputo\"], [\"Hillary Clinton\", \"John Podesta\"], [\"Hillary Clinton\", \"russorv\"], [\"Hillary Clinton\", \"vermarr\"], [\"Huma Abedin\", \"Voda Ebeling\"], [\"Huma Abedin\", \"Lauren Jiloty\"], [\"Huma Abedin\", \"Justin Cooper\"], [\"Huma Abedin\", \"Jake Sullivan\"], [\"Hillary Clinton\", \"tillemannts\"], [\"Hillary Clinton\", \"oterom2\"], [\"Hillary Clinton\", \"Lauren Jiloty\"], [\"Hillary Clinton\", \"rooneym\"], [\"Hillary Clinton\", \"mhcaleja\"], [\"Hillary Clinton\", \"Jake Sullivan\"], [\"Hillary Clinton\", \"Daniel\"], [\"Hillary Clinton\", \"Gina Glantz\"], [\"Hillary Clinton\", \"ki-moon ban\"], [\"Hillary Clinton\", \"Nancy Parrish\"], [\"Hillary Clinton\", \"Wendy Sherman\"], [\"Hillary Clinton\", \"rodriguezme\"], [\"Hillary Clinton\", \"Jan Piercy\"], [\"Hillary Clinton\", \"schwerindb\"], [\"Hillary Clinton\", \"Doug Hattaway\"], [\"Hillary Clinton\", \"steinbergjb\"], [\"Hillary Clinton\", \"bam\"], [\"Hillary Clinton\", \"duk-soo han\"], [\"Hillary Clinton\", \"bealeca\"], [\"Hillary Clinton\", \"Melanne Verveer\"], [\"Hillary Clinton\", \"Jeffrey Farrow\"], [\"Hillary Clinton\", \"Council on Foreign Relations\"], [\"Hillary Clinton\", \"brimmere\"], [\"Hillary Clinton\", \"Jacob Lew\"], [\"Hillary Clinton\", \"holbrookerc\"], [\"Hillary Clinton\", \"hillcr\"], [\"Hillary Clinton\", \"hanleymr\"], [\"Huma Abedin\", \"slaughter anne-marie\"], [\"Huma Abedin\", \"Betsy Ebeling\"], [\"Huma Abedin\", \"Donald\"], [\"Huma Abedin\", \"hanleymr\"], [\"Hillary Clinton\", \"Rick Sloan\"], [\"Hillary Clinton\", \"Betsy Ebeling\"], [\"Hillary Clinton\", \"muscantinel\"], [\"Hillary Clinton\", \"campbellkm\"], [\"Hillary Clinton\", \"carsonj\"], [\"Hillary Clinton\", \"shannonta\"], [\"Hillary Clinton\", \"Burns Strider\"], [\"Hillary Clinton\", \"Marty Torrey\"], [\"Hillary Clinton\", \"toivnf\"], [\"Hillary Clinton\", \"Terry Duffy\"], [\"Hillary Clinton\", \"sterntd\"], [\"Hillary Clinton\", \"Capricia Marshall\"], [\"Hillary Clinton\", \"Brian Greenspun\"], [\"Hillary Clinton\", \"Tina Flournoy\"], [\"Huma Abedin\", \"Oscar Flores\"], [\"Huma Abedin\", \"Lona Valmoro\"], [\"Hillary Clinton\", \"muscatinel\"], [\"Hillary Clinton\", \"Oscar Flores\"], [\"Hillary Clinton\", \"Scott Gration\"], [\"Hillary Clinton\", \"marshallcp\"], [\"Huma Abedin\", \"Capricia Marshall\"], [\"Huma Abedin\", \"mh.interiors\"], [\"Huma Abedin\", \"rosemarie.howe ;h\"], [\"Huma Abedin\", \"Kris Balderston\"], [\"Huma Abedin\", \"rrh.interiors\"], [\"Huma Abedin\", \"Redacted\"], [\"Hillary Clinton\", \"adedinh\"], [\"Hillary Clinton\", \"mchaleja\"], [\"Hillary Clinton\", \"Redacted\"], [\"Hillary Clinton\", \"Lona Valmoro\"], [\"Hillary Clinton\", \"Kent Conrad\"], [\"Hillary Clinton\", \"burnswj\"], [\"Hillary Clinton\", \"nidestr\"], [\"aclb\", \"Hillary Clinton\"], [\"Hillary Clinton\", \"Michele Flournoy\"], [\"Hillary Clinton\", \"Huma Abedin\"], [\"Hillary Clinton\", \"slaughtera\"], [\"Hillary Clinton\", \"kellyc\"], [\"Hillary Clinton\", \"Cherie Blair\"], [\"M. Albright\", \"Hillary Clinton\"], [\"Huma Abedin\", \"Hillary Clinton\"], [\"Huma Abedin\", \"Oscar Lores\"], [\"Cherie Blair\", \"Hillary Clinton\"], [\"Hillary Clinton\", \"Hillary Clinton\"], [\"Claire Coleman\", \"Hillary Clinton\"], [\"Richard Verma\", \"Hillary Clinton\"], [\"Hillary Clinton\", \"valenzuelaaa\"], [\"Robert Hormats\", \"Hillary Clinton\"], [\"slaughtera\", \"Hillary Clinton\"], [\"Huma Abedin\", \"Richard Verma\"], [\"Huma Abedin\", \"Huma Abedin\"], [\"Hillary Clinton\", \"Mark Penn\"], [\"Hillary Clinton\", \"hormatsrd\"], [\"Jackie Newmyer\", \"Hillary Clinton\"], [\"Caroline Adler\", \"Hillary Clinton\"], [\"Joanne Laszczych\", \"Hillary Clinton\"], [\"David Miliband\", \"Hillary Clinton\"], [\"Philip Gordon\", \"Hillary Clinton\"], [\"Hillary Clinton\", \"sulllivanjj\"], [\"Hillary Clinton\", \"shapiroa\"], [\"Hillary Clinton\", \"tauschereo\"], [\"Nora Toiv\", \"Hillary Clinton\"], [\"Hillary Clinton\", \"fuchsmh\"], [\"Huma Abedin\", \"Luzzatto\"], [\"Hillary Clinton\", \"Neera Tanden\"], [\"Hillary Clinton\", \"Luzzatto\"], [\"Huma Abedin\", \"Rosemarie Howe\"], [\"Huma Abedin\", \"Cheryl Mills\"], [\"Hillary Clinton\", \"gordonph\"], [\"Hillary Clinton\", \"valmmorolj\"], [\"Hillary Clinton\", \"Samuel (\\\"Sandy\\\") Berger\"], [\"Hillary Clinton\", \"Cheryl Mills\"], [\"Claire Coleman\", \"Cheryl Mills\"], [\"Hillary Clinton\", \"david_garten\"], [\"Cheryl Mills\", \"Maggie Williams\"], [\"Cheryl Mills\", \"Strobe Talbott\"], [\"Cheryl Mills\", \"Christopher Edwards\"], [\"Cheryl Mills\", \"Lissa Muscatine\"], [\"Cheryl Mills\", \"Janice Jacobs\"], [\"Cheryl Mills\", \"Judith McHale\"], [\"Cheryl Mills\", \"Suzanne Grantham\"], [\"Cheryl Mills\", \"Justin Cooper\"], [\"Cheryl Mills\", \"Lauren Jiloty\"], [\"Cheryl Mills\", \";h\"], [\"Cheryl Mills\", \"Lourdes Cue\"], [\"Cheryl Mills\", \"Jake Sullivan\"], [\"Cheryl Mills\", \"Michele Bond\"], [\"Cheryl Mills\", \"Maura Pally\"], [\"Cheryl Mills\", \"slaughter anne-marie\"], [\"Cheryl Mills\", \"Doug Band\"], [\"Cheryl Mills\", \"Jacob Lew\"], [\"Cheryl Mills\", \"Capricia Marshall\"], [\"Cheryl Mills\", \"Oscar Flores\"], [\"Cheryl Mills\", \"Lona Valmoro\"], [\"Cheryl Mills\", \"Jim Kennedy\"], [\"Cheryl Mills\", \"Michael Posner\"], [\"Cheryl Mills\", \"Kris Balderston\"], [\"Cheryl Mills\", \"Rene Preval\"], [\"Cheryl Mills\", \"Redacted\"], [\"Johnnie Carson\", \"Hillary Clinton\"], [\"Cheryl Mills\", \"Phillip Crowley\"], [\"Cheryl Mills\", \"Nora Toiv\"], [\"Samuel (\\\"Sandy\\\") Berger\", \"Hillary Clinton\"], [\"Cheryl Mills\", \"Hillary Clinton\"], [\"Dana Hyde\", \"Hillary Clinton\"], [\"Robert Blake\", \"Hillary Clinton\"], [\"Ellen Tauscher\", \"Hillary Clinton\"], [\"Neera Tanden\", \"Hillary Clinton\"], [\"Cheryl Mills\", \"Huma Abedin\"], [\"Thomas Nides\", \"Hillary Clinton\"], [\"Cheryl Mills\", \"Richard Verma\"], [\"Cheryl Mills\", \"Samuel (\\\"Sandy\\\") Berger\"], [\"G. Lou de Bac\", \"Cheryl Mills\"], [\"Cheryl Mills\", \"slaughter anne- marie\"], [\"Neera Tanden\", \"Neera Tanden\"], [\"Cheryl Mills\", \"Cheryl Mills\"], [\"Cheryl Mills\", \"LGraham\"]], \"ipython\": true, \"error_msg\": \"\"}, e);\n",
       "                });\n",
       "            })();\n",
       "        "
      ]
     },
     "metadata": {},
     "output_type": "display_data"
    }
   ],
   "source": [
    "l = g.get_edges()['__dst_id','__src_id'].unique()\n",
    "smallg = gl.SGraph()\n",
    "smallg = smallg.add_edges(l, src_field='__src_id', dst_field='__dst_id')\n",
    "\n",
    "top5 = ['Huma Abedin', 'Cheryl Mills', 'Jake Sullivan', 'Lauren Jiloty', 'Lona Valmoro']\n",
    "chigh = dict()\n",
    "chigh['Hillary Clinton'] = [0.8, 0.2, 0.2]\n",
    "for n in top5:\n",
    "    chigh[n] = [0.2, 0.6, 1.0]\n",
    "    \n",
    "smallg.get_neighborhood(['Hillary Clinton'] + top5).show(vlabel='id',vlabel_hover=True,highlight=chigh)"
   ]
  },
  {
   "cell_type": "markdown",
   "metadata": {
    "collapsed": false
   },
   "source": [
    "We can see that these \"important\" contacts are more connected than others -- they also exchange emails with some contacts that do not directly contact Hillary Clinton. From that, we can assume they act as a sort of \"gateways\" to Hillary Clinton and are responsible for different matters. This is what we are going to look into next.\n",
    "\n",
    "As for the GraphLab part, the builtin support for PageRank is very convenient. On the other hand, its plotting features are quite limited -- one thing we may have wanted to display is to have node sizes proportional to their PageRanks. This seems not possible in GraphLab 1.7.1, so we would need to reach out for a different Python package to do such plots.\n",
    "\n",
    "## Text Mining\n",
    "In this part, we will try to identify \"important\" words in emails sent by those \"important\" contacts as detected by PageRank. For that, we will use the conventional tf-idf measure. Again, GraphLab can compute tf-idf out of the box. Before doing that, we will clean the email text using the function from [this notebook](https://www.kaggle.com/smarugan/d/kaggle/hillary-clinton-emails/lesson):"
   ]
  },
  {
   "cell_type": "code",
   "execution_count": 7,
   "metadata": {
    "collapsed": false
   },
   "outputs": [],
   "source": [
    "import re \n",
    "def cleanEmailText(text): \n",
    "    text = re.sub(r\"-\", \" \", text) # Replace hypens with spaces \n",
    "    text = re.sub(r\"\\d+/\\d+/\\d+\", \"\", text)# Removes dates \n",
    "    text = re.sub(r\"[0-2]?[0-9]:[0-6][0-9]\", \"\", text) # Removes times \n",
    "    text = re.sub(r\"[\\w]+@[\\.\\w]+\", \"\", text)# Removes email addresses \n",
    "    text = re.sub(r\"/[a-zA-Z]*[:\\/\\/]*[A-Za-z0-9\\-_]+\\.+[A-Za-z0-9\\.\\/%&=\\?\\-_]+/i\", \"\", text) # Removes web addresses \n",
    "    clndoc = '' \n",
    "    \n",
    "    for eachLetter in text: \n",
    "        if eachLetter.isalpha() or eachLetter == ' ': \n",
    "            clndoc += eachLetter \n",
    "            \n",
    "    text = ' '.join(clndoc.split()) # Remove any bad characters \n",
    "    return text\n",
    "\n",
    "emails['Text'] = emails['RawText'].apply(cleanEmailText)"
   ]
  },
  {
   "cell_type": "markdown",
   "metadata": {},
   "source": [
    "We group the emails by their senders and treat these groups of documents as individual documents."
   ]
  },
  {
   "cell_type": "code",
   "execution_count": 8,
   "metadata": {
    "collapsed": false
   },
   "outputs": [
    {
     "name": "stdout",
     "output_type": "stream",
     "text": [
      "Huma Abedin\n",
      "+---------------------+---------------+\n",
      "|         word        |     tfidf     |\n",
      "+---------------------+---------------+\n",
      "|        abedin       | 3141.65394267 |\n",
      "|         huma        | 2575.96877657 |\n",
      "|         ses         | 1891.61747358 |\n",
      "|       reuters       | 1363.16110424 |\n",
      "|          ap         | 1186.83819951 |\n",
      "|       humasent      | 1173.69651116 |\n",
      "|        oshift       | 1121.79718995 |\n",
      "|       subject       | 1120.05217298 |\n",
      "|         news        | 1006.88197852 |\n",
      "|       fullfrom      | 1005.05833822 |\n",
      "|          fw         | 865.879391454 |\n",
      "|         call        |  658.16971485 |\n",
      "|      mahoganycc     | 631.307992165 |\n",
      "|     messagefrom     | 607.932426279 |\n",
      "| abedinhstategovsent | 564.200320851 |\n",
      "|         aug         | 549.891586387 |\n",
      "|     amtosubject     | 501.273101024 |\n",
      "|      davutoglu      | 449.003302109 |\n",
      "|     pmtosubject     | 446.880538047 |\n",
      "|       mahogany      | 442.272265697 |\n",
      "|         sat         | 432.974582765 |\n",
      "|        august       | 401.845691194 |\n",
      "|        hsent        | 401.778645652 |\n",
      "|       minister      | 388.177542678 |\n",
      "|       armenia       | 387.088523862 |\n",
      "+---------------------+---------------+\n",
      "[22063 rows x 2 columns]\n",
      "\n",
      "Cheryl Mills\n",
      "+-------------+---------------+\n",
      "|     word    |     tfidf     |\n",
      "+-------------+---------------+\n",
      "|    mills    | 4283.88998333 |\n",
      "|    cheryl   | 4228.01249825 |\n",
      "|      fw     | 1571.31252507 |\n",
      "|    haiti    | 1176.79340865 |\n",
      "|    dsent    | 930.311635694 |\n",
      "|     pmto    | 890.548310903 |\n",
      "|   clinton   | 889.469392527 |\n",
      "|    obama    | 883.226790174 |\n",
      "|   benghazi  | 825.213607619 |\n",
      "|   dsubject  | 821.217415815 |\n",
      "|   subject   | 748.168445605 |\n",
      "|  president  | 708.648294241 |\n",
      "|  secretary  | 671.544973291 |\n",
      "|    jacob    | 666.566976486 |\n",
      "|     nora    | 651.280826034 |\n",
      "|    house    |  650.42509343 |\n",
      "|     amto    | 647.082638026 |\n",
      "|  wednesday  |  641.51635972 |\n",
      "|    friday   | 613.638697115 |\n",
      "|   sullivan  | 608.958198606 |\n",
      "|     toiv    | 600.147207461 |\n",
      "| information | 586.046900045 |\n",
      "|    people   | 554.702011627 |\n",
      "|    monday   |  549.34377725 |\n",
      "|     dcc     | 540.518477648 |\n",
      "+-------------+---------------+\n",
      "[43970 rows x 2 columns]\n",
      "\n",
      "Jake Sullivan\n",
      "+-------------+---------------+\n",
      "|     word    |     tfidf     |\n",
      "+-------------+---------------+\n",
      "|   sullivan  |  1926.9607948 |\n",
      "|    jacob    | 1712.01113614 |\n",
      "|   benghazi  | 983.063183895 |\n",
      "|  sensitive  | 787.457462696 |\n",
      "|     foia    | 769.266922357 |\n",
      "|  redactions | 769.266922357 |\n",
      "|  statecase  | 751.284059237 |\n",
      "|    cdate    | 745.721358836 |\n",
      "| commsubject |  745.28977153 |\n",
      "|    select   | 742.286586292 |\n",
      "|   produced  | 697.556273908 |\n",
      "|     dept    | 686.412036067 |\n",
      "|  agreement  | 675.557282528 |\n",
      "|   subject   | 627.874695527 |\n",
      "|      fw     |  598.02696102 |\n",
      "|    house    | 546.308082241 |\n",
      "|     keib    | 545.739173489 |\n",
      "| information | 539.018445103 |\n",
      "| messagefrom | 475.698536947 |\n",
      "|    libya    | 456.676632533 |\n",
      "|      el     | 447.062347922 |\n",
      "|     ntc     | 432.043512346 |\n",
      "|    waiver   | 399.283877172 |\n",
      "|    israel   | 395.369329357 |\n",
      "|    jalil    | 368.898538705 |\n",
      "+-------------+---------------+\n",
      "[23355 rows x 2 columns]\n",
      "\n",
      "Lauren Jiloty\n",
      "+-------------+---------------+\n",
      "|     word    |     tfidf     |\n",
      "+-------------+---------------+\n",
      "|      pm     | 2297.62130331 |\n",
      "|    jiloty   | 1925.33034062 |\n",
      "|    lauren   | 1640.30740375 |\n",
      "|  secretarys | 1210.92148607 |\n",
      "|    depart   | 733.025560847 |\n",
      "|    arrive   | 687.366912049 |\n",
      "|    route    | 671.568577378 |\n",
      "|  mashabane  | 636.095841249 |\n",
      "|    office   |  606.63981384 |\n",
      "|     room    |   595.643917  |\n",
      "|      en     | 507.516359165 |\n",
      "|     call    | 496.497212219 |\n",
      "|   meeting   | 438.306205253 |\n",
      "|    csent    | 353.024733762 |\n",
      "|    abedin   | 343.814144368 |\n",
      "|   private   | 334.154887244 |\n",
      "|     aug     | 329.211410271 |\n",
      "|  residence  |  316.29641245 |\n",
      "| messagefrom | 304.824874758 |\n",
      "|  conference | 300.261635848 |\n",
      "|    daily    | 291.448494318 |\n",
      "|   subject   | 265.526448342 |\n",
      "|     mini    | 261.155919219 |\n",
      "|   airport   | 257.181028106 |\n",
      "| humasubject | 257.122595097 |\n",
      "+-------------+---------------+\n",
      "[6724 rows x 2 columns]\n",
      "\n",
      "Lona Valmoro\n",
      "+----------------+---------------+\n",
      "|      word      |     tfidf     |\n",
      "+----------------+---------------+\n",
      "|    valmoro     | 727.537705611 |\n",
      "|      lona      | 691.782220143 |\n",
      "|      huma      | 259.684795612 |\n",
      "| valmorospecial | 238.760888402 |\n",
      "|       pm       | 216.300096362 |\n",
      "|   assistant    | 153.444255564 |\n",
      "|  messagefrom   | 147.689798474 |\n",
      "|    subject     | 147.433193693 |\n",
      "| abedinsubject  | 123.021329474 |\n",
      "|     abedin     | 116.924648287 |\n",
      "|   secretarys   | 109.058146261 |\n",
      "|   abedinsent   | 98.1187856559 |\n",
      "|      sep       | 88.6338412268 |\n",
      "|     depart     | 76.5110854756 |\n",
      "|   partbfrom    | 75.7736548283 |\n",
      "|   secretary    | 73.7879604393 |\n",
      "|      amto      | 73.6070233408 |\n",
      "|    schedule    | 73.2610165294 |\n",
      "|      mtg       | 72.2346159542 |\n",
      "|     jsent      | 71.9314524801 |\n",
      "|      pmto      | 69.5740867893 |\n",
      "| directoriginal | 69.3181365464 |\n",
      "|    message     |  67.633311383 |\n",
      "|     route      | 65.4125237706 |\n",
      "|      fri       | 65.0412877171 |\n",
      "+----------------+---------------+\n",
      "[3077 rows x 2 columns]\n",
      "\n"
     ]
    }
   ],
   "source": [
    "grouped_emails = emails.groupby([\"MetadataFrom\"], {\"alltext\":gl.aggregate.CONCAT(\"Text\")})\n",
    "grouped_emails['Text'] = grouped_emails['alltext'].apply(lambda x: ' '.join(x))\n",
    "grouped_emails['word_count'] = gl.text_analytics.count_words(grouped_emails['Text']).dict_trim_by_keys(gl.text_analytics.stopwords(), True)\n",
    "grouped_emails['tfidf'] = gl.text_analytics.tf_idf(grouped_emails['word_count'])\n",
    "for name in top5:\n",
    "    person = grouped_emails[grouped_emails['MetadataFrom'] == name]\n",
    "    print(name)\n",
    "    person[['tfidf']].stack('tfidf',new_column_name=['word','tfidf']).sort('tfidf',ascending=False).print_rows(num_rows=25)"
   ]
  },
  {
   "cell_type": "markdown",
   "metadata": {},
   "source": [
    "## Summary\n",
    "We can see that the method would deserve a more careful treatment and a potential further analysis could improve upon that. In particular, it would be desirable to clean email-related annotations (FW, subject, ...) and uninteresting words (e.g. the sender's name) from the raw text. Nonetheless, even in this crude result, we can observe that each person of Hillary Clinton's top 5 inner circle deals with a bit different matters:\n",
    "\n",
    "* Huma Abedin: Reuters, AP, news, call, ...\n",
    "* Cheryl Mills: Haiti, Obama, Benghazi, ...\n",
    "* Jake Sullivan: Benghazi, sensitive, Libya, Israel, ...\n",
    "* Lauren Jiloty: depart, arrive, route, office, room, call, meeting, conference, airport, ...\n",
    "* Lona Valmoro: secretary, depart, schedule, route, message, ...\n",
    "\n",
    "GraphLab was fairly straightforward to use. Given this dataset is not too big, the time was not measured and pandas would be equally good in this setting. The out-of-the-box support for some common feature engineering, analysis, and plotting in GraphLab is convenient, but sometimes a bit limited when compared with dedicated Python libraries. It is, however, easy to convert data from GraphLab's datastructures (i.e. just a matter of calling a method), so its toolbox limitations are not a big issue. "
   ]
  }
 ],
 "metadata": {
  "kernelspec": {
   "display_name": "Python 2",
   "language": "python",
   "name": "python2"
  },
  "language_info": {
   "codemirror_mode": {
    "name": "ipython",
    "version": 2
   },
   "file_extension": ".py",
   "mimetype": "text/x-python",
   "name": "python",
   "nbconvert_exporter": "python",
   "pygments_lexer": "ipython2",
   "version": "2.7"
  }
 },
 "nbformat": 4,
 "nbformat_minor": 0
}
